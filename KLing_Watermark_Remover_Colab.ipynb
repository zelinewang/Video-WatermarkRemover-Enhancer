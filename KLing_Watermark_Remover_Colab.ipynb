{
 "cells": [
  {
   "cell_type": "markdown",
   "metadata": {},
   "source": [
    "# 🎥 Universal Video Watermark Remover & Enhancer\n",
    "\n",
    "**AI-powered watermark removal for KLing, Sora, and any videos with GPU acceleration!**\n",
    "\n",
    "---\n",
    "\n",
    "### ⚡ Quick Start Guide\n",
    "1. **Enable GPU**: Runtime → Change runtime type → Select **T4 GPU**\n",
    "2. Run cells in order below\n",
    "3. Upload your video file\n",
    "4. Wait for processing (5-15 minutes)\n",
    "5. Download the result\n",
    "\n",
    "⚡ **Speed**: GPU is **10-50x faster** than CPU!\n",
    "\n",
    "📖 **Documentation**: [GitHub Repository](https://github.com/zelinewang/Video-WatermarkRemover-Enhancer)"
   ]
  },
  {
   "cell_type": "markdown",
   "metadata": {},
   "source": [
    "## 📦 Step 1: 安装依赖和克隆项目"
   ]
  },
  {
   "cell_type": "code",
   "execution_count": null,
   "metadata": {},
   "outputs": [],
   "source": [
    "import os\n",
    "import sys\n",
    "\n",
    "# 检查 GPU\n",
    "print(\"=\"*60)\n",
    "print(\"🔍 Checking GPU availability...\")\n",
    "print(\"=\"*60)\n",
    "!nvidia-smi\n",
    "\n",
    "print(\"\\n\" + \"=\"*60)\n",
    "print(\"📥 Cloning repository...\")\n",
    "print(\"=\"*60 + \"\\n\")\n",
    "\n",
    "# 克隆项目（包括子模块）\n",
    "if not os.path.exists('Video-WatermarkRemover-Enhancer'):\n",
    "    !git clone --recursive https://github.com/zelinewang/Video-WatermarkRemover-Enhancer.git\n",
    "    print(\"✅ Repository cloned!\")\n",
    "else:\n",
    "    print(\"✅ Repository already exists!\")\n",
    "    \n",
    "%cd Video-WatermarkRemover-Enhancer\n",
    "\n",
    "print(\"\\n\" + \"=\"*60)\n",
    "print(\"📦 Installing dependencies (this may take 2-3 minutes)...\")\n",
    "print(\"=\"*60 + \"\\n\")\n",
    "\n",
    "# 策略：先卸载冲突的包，然后安装兼容版本\n",
    "# Colab 现在预装了较新版本，我们需要使用它们\n",
    "\n",
    "# 1. 先安装 gdown 用于下载模型\n",
    "!pip install -q gdown\n",
    "\n",
    "# 2. 安装 PyTorch（使用 Colab 已安装的版本或兼容版本）\n",
    "# Colab 通常已经预装了 PyTorch，检查版本\n",
    "import torch\n",
    "print(f\"✅ PyTorch version: {torch.__version__}\")\n",
    "print(f\"✅ CUDA available: {torch.cuda.is_available()}\")\n",
    "\n",
    "# 3. 安装其他依赖（不指定 numpy 版本，使用 Colab 预装的）\n",
    "!pip install -q Pillow PyYAML tqdm opencv-python\n",
    "\n",
    "# 4. 安装 basicsr（从 GitHub 安装最新版本以兼容新的依赖）\n",
    "print(\"\\n📦 Installing basicsr from source...\")\n",
    "!pip install -q git+https://github.com/xinntao/BasicSR.git\n",
    "\n",
    "# 5. 安装 facexlib 和 gfpgan\n",
    "!pip install -q facexlib\n",
    "!pip install -q gfpgan\n",
    "\n",
    "# 6. 安装 realesrgan\n",
    "!pip install -q realesrgan\n",
    "\n",
    "# 创建缺失的 version.py 文件\n",
    "version_file = 'Real-ESRGAN/realesrgan/version.py'\n",
    "if not os.path.exists(version_file):\n",
    "    with open(version_file, 'w') as f:\n",
    "        f.write(\"# flake8: noqa\\n\\n__version__ = '0.3.0'\\n__gitsha__ = 'unknown'\\n\")\n",
    "    print(f\"✅ Created {version_file}\")\n",
    "\n",
    "# 创建 weights 目录\n",
    "!mkdir -p weights\n",
    "\n",
    "print(\"\\n\" + \"=\"*60)\n",
    "print(\"✅ Setup complete! Ready to download models.\")\n",
    "print(\"=\"*60)"
   ]
  },
  {
   "cell_type": "markdown",
   "metadata": {},
   "source": [
    "## 🔽 Step 2: 下载模型权重\n",
    "\n",
    "下载水印移除所需的 STTN 模型（约 200MB）"
   ]
  },
  {
   "cell_type": "code",
   "execution_count": null,
   "metadata": {},
   "outputs": [],
   "source": [
    "import os\n",
    "\n",
    "print(\"=\"*60)\n",
    "print(\"📥 Downloading STTN model (~200MB)...\")\n",
    "print(\"=\"*60 + \"\\n\")\n",
    "\n",
    "# 下载 STTN 水印移除模型\n",
    "if not os.path.exists('weights/sttn.pth'):\n",
    "    !gdown 1ZAMV8547wmZylKRt5qR_tC5VlosXD4Wv -O weights/sttn.pth\n",
    "    print(\"\\n✅ STTN model downloaded!\")\n",
    "else:\n",
    "    print(\"✅ STTN model already exists!\")\n",
    "\n",
    "print(\"\\n\" + \"=\"*60)\n",
    "print(\"✅ Model ready! You can now upload your video.\")\n",
    "print(\"=\"*60)"
   ]
  },
  {
   "cell_type": "markdown",
   "metadata": {},
   "source": [
    "## 📤 Step 3: 上传视频文件\n",
    "\n",
    "点击下方按钮上传你的 KLing 视频"
   ]
  },
  {
   "cell_type": "code",
   "execution_count": null,
   "metadata": {},
   "outputs": [],
   "source": [
    "from google.colab import files\n",
    "import os\n",
    "\n",
    "print(\"=\"*60)\n",
    "print(\"📤 Please select and upload your video file\")\n",
    "print(\"=\"*60 + \"\\n\")\n",
    "\n",
    "uploaded = files.upload()\n",
    "\n",
    "# 获取上传的文件名\n",
    "video_filename = list(uploaded.keys())[0]\n",
    "file_size_mb = len(uploaded[video_filename]) / (1024*1024)\n",
    "\n",
    "print(\"\\n\" + \"=\"*60)\n",
    "print(f\"✅ Upload successful!\")\n",
    "print(f\"   📹 File: {video_filename}\")\n",
    "print(f\"   📦 Size: {file_size_mb:.2f} MB\")\n",
    "print(\"=\"*60)"
   ]
  },
  {
   "cell_type": "markdown",
   "metadata": {},
   "source": [
    "## ⚙️ Step 4: 处理视频（移除水印）\n",
    "\n",
    "🚀 **使用 GPU 加速处理！**\n",
    "\n",
    "处理选项：\n",
    "- `--remove-watermark`: 移除水印\n",
    "- `--enhance-video`: 视频增强（可选，需要额外下载模型）"
   ]
  },
  {
   "cell_type": "code",
   "execution_count": null,
   "metadata": {},
   "outputs": [],
   "source": [
    "import time\n",
    "import os\n",
    "\n",
    "print(\"=\"*60)\n",
    "print(\"🚀 Starting watermark removal with GPU acceleration...\")\n",
    "print(\"=\"*60 + \"\\n\")\n",
    "\n",
    "start_time = time.time()\n",
    "\n",
    "# 运行水印移除（使用 GPU）\n",
    "!python main.py --input \"{video_filename}\" --remove-watermark\n",
    "\n",
    "elapsed_time = time.time() - start_time\n",
    "minutes = int(elapsed_time // 60)\n",
    "seconds = int(elapsed_time % 60)\n",
    "\n",
    "print(\"\\n\" + \"=\"*60)\n",
    "print(f\"✅ Processing complete! ⏱️  Time: {minutes}m {seconds}s\")\n",
    "print(\"=\"*60)\n",
    "\n",
    "# 检查输出文件\n",
    "output_filename = video_filename.rsplit('.', 1)[0] + '_enhanced.mp4'\n",
    "if os.path.exists(output_filename):\n",
    "    file_size = os.path.getsize(output_filename) / (1024*1024)\n",
    "    print(f\"\\n📹 Output file: {output_filename}\")\n",
    "    print(f\"   📦 Size: {file_size:.2f} MB\")\n",
    "    print(\"\\n👉 Proceed to Step 5 to download the result!\")\n",
    "else:\n",
    "    print(\"\\n⚠️  Output file not found. Please check for errors above.\")"
   ]
  },
  {
   "cell_type": "markdown",
   "metadata": {},
   "source": [
    "## 📥 Step 5: 下载处理后的视频\n",
    "\n",
    "下载水印已移除的视频"
   ]
  },
  {
   "cell_type": "code",
   "execution_count": null,
   "metadata": {},
   "outputs": [],
   "source": [
    "from google.colab import files\n",
    "import os\n",
    "\n",
    "# 找到输出文件\n",
    "output_filename = video_filename.rsplit('.', 1)[0] + '_enhanced.mp4'\n",
    "\n",
    "if os.path.exists(output_filename):\n",
    "    print(\"=\"*60)\n",
    "    print(\"📥 Downloading processed video...\")\n",
    "    print(\"=\"*60 + \"\\n\")\n",
    "    \n",
    "    files.download(output_filename)\n",
    "    \n",
    "    print(\"\\n✅ Download started!\")\n",
    "    print(f\"   Check your browser's download folder for:\")\n",
    "    print(f\"   📹 {output_filename}\")\n",
    "    print(\"\\n\" + \"=\"*60)\n",
    "    print(\"🎉 All done! Enjoy your watermark-free video!\")\n",
    "    print(\"=\"*60)\n",
    "else:\n",
    "    print(\"❌ Output file not found. Please run Step 4 first.\")"
   ]
  },
  {
   "cell_type": "markdown",
   "metadata": {},
   "source": [
    "## 🧹 (可选) 清理临时文件\n",
    "\n",
    "处理完成后清理临时帧图像以释放空间"
   ]
  },
  {
   "cell_type": "code",
   "execution_count": null,
   "metadata": {},
   "outputs": [],
   "source": [
    "import shutil\n",
    "import os\n",
    "\n",
    "# 删除临时帧目录\n",
    "temp_dir = video_filename.rsplit('.', 1)[0]\n",
    "if os.path.exists(temp_dir):\n",
    "    shutil.rmtree(temp_dir)\n",
    "    print(f\"🧹 Cleaned up temporary directory: {temp_dir}\")\n",
    "else:\n",
    "    print(\"✅ No temporary files to clean\")\n",
    "\n",
    "# 显示当前磁盘使用情况\n",
    "print(\"\\n📊 Disk usage:\")\n",
    "!df -h | grep -E \"Filesystem|/content\""
   ]
  },
  {
   "cell_type": "markdown",
   "metadata": {},
   "source": [
    "---\n",
    "\n",
    "## 📚 技术信息\n",
    "\n",
    "- **项目地址**: [KLing-Video-WatermarkRemover-Enhancer](https://github.com/chenwr727/KLing-Video-WatermarkRemover-Enhancer)\n",
    "- **技术栈**: \n",
    "  - [STTN](https://github.com/researchmm/STTN) - Spatio-Temporal Transformer Network 用于视频修复\n",
    "  - [Real-ESRGAN](https://github.com/xinntao/Real-ESRGAN) - 视频超分辨率\n",
    "  - PyTorch + CUDA GPU 加速\n",
    "\n",
    "## ⚠️ 注意事项\n",
    "\n",
    "1. **GPU 运行时**: 必须选择 GPU 运行时（推荐 T4 GPU）\n",
    "2. **处理时间**: \n",
    "   - GPU: 5-15 分钟（取决于视频长度）\n",
    "   - CPU: 1-2 小时（不推荐）\n",
    "3. **Colab 限制**: \n",
    "   - 免费版连续使用时长限制：12 小时\n",
    "   - 空闲超时：90 分钟无操作会断开\n",
    "   - GPU 配额限制\n",
    "4. **水印位置**: 默认配置适用于标准 KLing 水印位置\n",
    "\n",
    "## 🌟 如果这个项目对你有帮助，请给 Star ⭐️\n",
    "\n",
    "[![GitHub stars](https://img.shields.io/github/stars/chenwr727/KLing-Video-WatermarkRemover-Enhancer?style=social)](https://github.com/chenwr727/KLing-Video-WatermarkRemover-Enhancer/stargazers)"
   ]
  }
 ],
 "metadata": {
  "accelerator": "GPU",
  "colab": {
   "gpuType": "T4",
   "provenance": []
  },
  "kernelspec": {
   "display_name": "Python 3",
   "name": "python3"
  },
  "language_info": {
   "name": "python"
  }
 },
 "nbformat": 4,
 "nbformat_minor": 0
}
